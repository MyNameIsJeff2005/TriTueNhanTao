{
 "cells": [
  {
   "cell_type": "code",
   "execution_count": 1,
   "id": "45f523be",
   "metadata": {},
   "outputs": [
    {
     "name": "stdout",
     "output_type": "stream",
     "text": [
      "Path found:\n",
      "(0, 0)\n",
      "(1, 0)\n",
      "(2, 0)\n",
      "(3, 0)\n",
      "(3, 1)\n",
      "(2, 1)\n",
      "(2, 2)\n",
      "(1, 2)\n",
      "(0, 2)\n",
      "(0, 3)\n",
      "(1, 3)\n",
      "(2, 3)\n",
      "(2, 4)\n",
      "(1, 4)\n",
      "(1, 5)\n",
      "(0, 5)\n"
     ]
    }
   ],
   "source": [
    "#vị trí (x,y) - đọc cột trước dòng sau\n",
    "maze_size = 6       #kich thước mê cung\n",
    "obstacles = [(0,1),(1,1),(4,1),(4,2),(3,2),(4,3),(3,3),(3,4),(0,4),(3,5)] #vị trí vật cản\n",
    "start = (0,0)         #bắt đầu\n",
    "goal = (0,5)          #kết thúc\n",
    "\n",
    "def is_valid(x,y):\n",
    "    return (0 <= x < maze_size) and (0 <= y < maze_size) and (x,y) not in obstacles\n",
    "\n",
    "def dfs (current, visited, path):\n",
    "    x, y = current\n",
    "    if current == goal:\n",
    "        path.append(current)\n",
    "        return True\n",
    "    visited.add(current)\n",
    "    moves = [(x-1,y), (x+1,y), (x, y-1), (x, y+1)]\n",
    "    for move in moves:\n",
    "        if is_valid(*move) and move not in visited:\n",
    "            if dfs(move, visited, path):\n",
    "                path.append(current)\n",
    "                return True\n",
    "    return False\n",
    "visited = set()\n",
    "path = []\n",
    "if dfs(start, visited, path):\n",
    "    path.reverse()\n",
    "    print(\"Path found:\")\n",
    "    for position in path:\n",
    "        print(position)\n",
    "else:\n",
    "    print(\"No path found\")"
   ]
  }
 ],
 "metadata": {
  "kernelspec": {
   "display_name": "Python 3",
   "language": "python",
   "name": "python3"
  },
  "language_info": {
   "codemirror_mode": {
    "name": "ipython",
    "version": 3
   },
   "file_extension": ".py",
   "mimetype": "text/x-python",
   "name": "python",
   "nbconvert_exporter": "python",
   "pygments_lexer": "ipython3",
   "version": "3.11.0"
  }
 },
 "nbformat": 4,
 "nbformat_minor": 5
}
